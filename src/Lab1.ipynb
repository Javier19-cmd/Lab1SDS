{
 "cells": [
  {
   "cell_type": "markdown",
   "metadata": {},
   "source": [
    "# Encabezado"
   ]
  },
  {
   "cell_type": "markdown",
   "metadata": {},
   "source": [
    "### Librerias"
   ]
  },
  {
   "cell_type": "code",
   "execution_count": 44,
   "metadata": {},
   "outputs": [],
   "source": [
    "import pandas as pd\n",
    "import matplotlib.pyplot as plt\n",
    "from urllib.parse import urlparse\n",
    "import re\n",
    "import math\n",
    "import idna\n",
    "import nltk\n",
    "from nltk.corpus import words"
   ]
  },
  {
   "cell_type": "markdown",
   "metadata": {},
   "source": [
    "### Parte 1 – Ingeniería de características\n",
    "\n",
    "### Exploración de datos\n",
    "\n",
    "1. Cargue el dataset en un dataframe de pandas, muestre un ejemplo de cinco observaciones."
   ]
  },
  {
   "cell_type": "code",
   "execution_count": 45,
   "metadata": {},
   "outputs": [
    {
     "data": {
      "text/html": [
       "<div>\n",
       "<style scoped>\n",
       "    .dataframe tbody tr th:only-of-type {\n",
       "        vertical-align: middle;\n",
       "    }\n",
       "\n",
       "    .dataframe tbody tr th {\n",
       "        vertical-align: top;\n",
       "    }\n",
       "\n",
       "    .dataframe thead th {\n",
       "        text-align: right;\n",
       "    }\n",
       "</style>\n",
       "<table border=\"1\" class=\"dataframe\">\n",
       "  <thead>\n",
       "    <tr style=\"text-align: right;\">\n",
       "      <th></th>\n",
       "      <th>url</th>\n",
       "      <th>status</th>\n",
       "    </tr>\n",
       "  </thead>\n",
       "  <tbody>\n",
       "    <tr>\n",
       "      <th>0</th>\n",
       "      <td>http://www.crestonwood.com/router.php</td>\n",
       "      <td>legitimate</td>\n",
       "    </tr>\n",
       "    <tr>\n",
       "      <th>1</th>\n",
       "      <td>http://shadetreetechnology.com/V4/validation/a...</td>\n",
       "      <td>phishing</td>\n",
       "    </tr>\n",
       "    <tr>\n",
       "      <th>2</th>\n",
       "      <td>https://support-appleld.com.secureupdate.duila...</td>\n",
       "      <td>phishing</td>\n",
       "    </tr>\n",
       "    <tr>\n",
       "      <th>3</th>\n",
       "      <td>http://rgipt.ac.in</td>\n",
       "      <td>legitimate</td>\n",
       "    </tr>\n",
       "    <tr>\n",
       "      <th>4</th>\n",
       "      <td>http://www.iracing.com/tracks/gateway-motorspo...</td>\n",
       "      <td>legitimate</td>\n",
       "    </tr>\n",
       "  </tbody>\n",
       "</table>\n",
       "</div>"
      ],
      "text/plain": [
       "                                                 url      status\n",
       "0              http://www.crestonwood.com/router.php  legitimate\n",
       "1  http://shadetreetechnology.com/V4/validation/a...    phishing\n",
       "2  https://support-appleld.com.secureupdate.duila...    phishing\n",
       "3                                 http://rgipt.ac.in  legitimate\n",
       "4  http://www.iracing.com/tracks/gateway-motorspo...  legitimate"
      ]
     },
     "metadata": {},
     "output_type": "display_data"
    }
   ],
   "source": [
    "import pandas as pd\n",
    "\n",
    "csv_path = './data/dataset_pishing.csv'\n",
    "df = pd.read_csv(csv_path)\n",
    "\n",
    "ejemplo_observaciones = df.head(5)\n",
    "display(ejemplo_observaciones)\n"
   ]
  },
  {
   "cell_type": "markdown",
   "metadata": {},
   "source": [
    "2. Muestre la cantidad de observaciones etiquetadas en la columna status como “legit” y como\n",
    "“pishing”. ¿Está balanceado el dataset?"
   ]
  },
  {
   "cell_type": "code",
   "execution_count": 46,
   "metadata": {},
   "outputs": [
    {
     "name": "stdout",
     "output_type": "stream",
     "text": [
      "Cantidad de observaciones etiquetadas como 'legit': 5715\n",
      "Cantidad de observaciones etiquetadas como 'pishing': 5715\n"
     ]
    },
    {
     "data": {
      "image/png": "[encoded data removed]",
      "text/plain": [
       "<Figure size 640x480 with 1 Axes>"
      ]
     },
     "metadata": {},
     "output_type": "display_data"
    }
   ],
   "source": [
    "conteo_etiquetas = df['status'].value_counts()\n",
    "\n",
    "print(\"Cantidad de observaciones etiquetadas como 'legit':\", conteo_etiquetas['legitimate'])\n",
    "print(\"Cantidad de observaciones etiquetadas como 'pishing':\", conteo_etiquetas['phishing'])\n",
    "\n",
    "\n",
    "plt.bar(conteo_etiquetas.index, conteo_etiquetas)\n",
    "plt.xlabel('Etiqueta')\n",
    "plt.ylabel('Cantidad de Observaciones')\n",
    "plt.title('Distribución de Etiquetas en el Dataset')\n",
    "\n",
    "plt.show()"
   ]
  },
  {
   "cell_type": "markdown",
   "metadata": {},
   "source": [
    "El dataset está perfectamente balanceado, dado que hay la misma cantidad de links legítimos y de phising."
   ]
  },
  {
   "cell_type": "markdown",
   "metadata": {},
   "source": [
    "### Derivación de características\n",
    "En base a los artículos propuestos de clasificación de phishing, responda las siguientes preguntas:\n",
    "1. ¿Qué ventajas tiene el análisis de una URL contra el análisis de otros datos, cómo el tiempo\n",
    "de vida del dominio, o las características de la página Web?\n",
    "2. ¿Qué características de una URL son más prometedoras para la detección de phishing?\n",
    "\n",
    "En base a la respuesta anterior escriba al menos quince funciones basadas en los artículos, para\n",
    "derivar características que un modelo pueda utilizar y añada dichas características al dataset original."
   ]
  },
  {
   "cell_type": "markdown",
   "metadata": {},
   "source": [
    "## Derivación de características."
   ]
  },
  {
   "cell_type": "markdown",
   "metadata": {},
   "source": [
    "1. ¿Qué ventajas tiene el análisis de una URL contra el análisis de otros datos, como el tiempo de vida del dominio, o las características de la página Web?\n",
    "\n",
    "- La ventaja que tiene el análisis de una URL es que se analiza su string puro y con ello se puede saber si tiene caracteres especiales que podrían no existir en un link legítimo en caso de ser fraudulentos.\n",
    "\n",
    "2. ¿Qué características de una URL son más prometedoras para la detección de phishing?\n",
    "\n",
    "- Las características más prometedoras de un link son los números, @ y/o cualquier otro caracter especial. Otras características especiales pueden ser también la cantidad de veces que aparecen los números o caracteres especiales.\n"
   ]
  },
  {
   "cell_type": "markdown",
   "metadata": {},
   "source": [
    "## Escribiendo al menos quince funciones basadas en los artículos."
   ]
  },
  {
   "cell_type": "markdown",
   "metadata": {},
   "source": [
    "Analizando la longitud del link."
   ]
  },
  {
   "cell_type": "code",
   "execution_count": 47,
   "metadata": {},
   "outputs": [
    {
     "name": "stdout",
     "output_type": "stream",
     "text": [
      "                                                     url      status   \n",
      "0                  http://www.crestonwood.com/router.php  legitimate  \\\n",
      "1      http://shadetreetechnology.com/V4/validation/a...    phishing   \n",
      "2      https://support-appleld.com.secureupdate.duila...    phishing   \n",
      "3                                     http://rgipt.ac.in  legitimate   \n",
      "4      http://www.iracing.com/tracks/gateway-motorspo...  legitimate   \n",
      "...                                                  ...         ...   \n",
      "11425      http://www.fontspace.com/category/blackletter  legitimate   \n",
      "11426  http://www.budgetbots.com/server.php/Server%20...    phishing   \n",
      "11427  https://www.facebook.com/Interactive-Televisio...  legitimate   \n",
      "11428             http://www.mypublicdomainpictures.com/  legitimate   \n",
      "11429  http://174.139.46.123/ap/signin?openid.pape.ma...    phishing   \n",
      "\n",
      "       full_url_length  hostname_length  \n",
      "0                   37               19  \n",
      "1                   77               23  \n",
      "2                  126               50  \n",
      "3                   18               11  \n",
      "4                   55               15  \n",
      "...                ...              ...  \n",
      "11425               45               17  \n",
      "11426               84               18  \n",
      "11427              105               16  \n",
      "11428               38               30  \n",
      "11429              477               14  \n",
      "\n",
      "[11430 rows x 4 columns]\n"
     ]
    }
   ],
   "source": [
    "def calculate_url_lengths(df):\n",
    "    # Añade nuevas columnas al DataFrame para almacenar las longitudes\n",
    "    df['full_url_length'] = df['url'].apply(len)\n",
    "    df['hostname_length'] = df['url'].apply(lambda x: len(urlparse(x).hostname))\n",
    "\n",
    "    return df\n",
    "\n",
    "\n",
    "df = calculate_url_lengths(df)\n",
    "\n",
    "print(df)\n",
    "\n",
    "# # Sobreescribiendo el archivo CSV con las nuevas columnas.\n",
    "# df.to_csv(csv_path, index=False)\n",
    "\n",
    "# Escribiendo un nuevo archivo CSV con las nuevas columnas.\n",
    "new_csv_path = './data/new_dataset.csv'\n",
    "df.to_csv(new_csv_path, index=False)"
   ]
  },
  {
   "cell_type": "markdown",
   "metadata": {},
   "source": [
    "Caracteres especiales"
   ]
  },
  {
   "cell_type": "code",
   "execution_count": 48,
   "metadata": {},
   "outputs": [
    {
     "name": "stdout",
     "output_type": "stream",
     "text": [
      "                                                     url      status   \n",
      "0                  http://www.crestonwood.com/router.php  legitimate  \\\n",
      "1      http://shadetreetechnology.com/V4/validation/a...    phishing   \n",
      "2      https://support-appleld.com.secureupdate.duila...    phishing   \n",
      "3                                     http://rgipt.ac.in  legitimate   \n",
      "4      http://www.iracing.com/tracks/gateway-motorspo...  legitimate   \n",
      "...                                                  ...         ...   \n",
      "11425      http://www.fontspace.com/category/blackletter  legitimate   \n",
      "11426  http://www.budgetbots.com/server.php/Server%20...    phishing   \n",
      "11427  https://www.facebook.com/Interactive-Televisio...  legitimate   \n",
      "11428             http://www.mypublicdomainpictures.com/  legitimate   \n",
      "11429  http://174.139.46.123/ap/signin?openid.pape.ma...    phishing   \n",
      "\n",
      "       full_url_length  hostname_length  f4  f5  f6  f7  f8  f9  ...  f11   \n",
      "0                   37               19   3   0   0   0   0   0  ...    0  \\\n",
      "1                   77               23   1   0   0   0   0   0  ...    0   \n",
      "2                  126               50   4   1   0   1   2   0  ...    2   \n",
      "3                   18               11   2   0   0   0   0   0  ...    0   \n",
      "4                   55               15   2   2   0   0   0   0  ...    0   \n",
      "...                ...              ...  ..  ..  ..  ..  ..  ..  ...  ...   \n",
      "11425               45               17   2   0   0   0   0   0  ...    0   \n",
      "11426               84               18   5   0   1   1   0   0  ...    0   \n",
      "11427              105               16   2   6   0   1   0   0  ...    1   \n",
      "11428               38               30   2   0   0   0   0   0  ...    0   \n",
      "11429              477               14  24   0   1   1   9   0  ...   18   \n",
      "\n",
      "       f12  f13  f14  f15  f16  f17  f18  f19  f20  \n",
      "0        0    0    3    0    1    0    0    0    0  \n",
      "1        0    0    5    0    1    0    0    0    0  \n",
      "2        0    0    5    0    1    0    0    0    0  \n",
      "3        0    0    2    0    1    0    0    0    0  \n",
      "4        0    0    5    0    1    0    0    0    0  \n",
      "...    ...  ...  ...  ...  ...  ...  ...  ...  ...  \n",
      "11425    0    0    4    0    1    0    0    0    0  \n",
      "11426    0    1    5    0    1    0    0    0    1  \n",
      "11427    0    0    5    0    1    0    0    0    0  \n",
      "11428    0    0    3    0    1    0    0    0    0  \n",
      "11429    0   23    4    0    1    0    9    0    0  \n",
      "\n",
      "[11430 rows x 21 columns]\n"
     ]
    }
   ],
   "source": [
    "def count_special_characters(df):\n",
    "    special_characters = ['.', '-', '@', '?', '&', '|', '=', '_', ' ̃', '%', '/', '*', ':', ',', ';', '$', '%20']\n",
    "\n",
    "    for char in special_characters:\n",
    "        col_name = f'f{special_characters.index(char) + 4}'  # Agregando 'f' para evitar errores en el nombre de la columna.\n",
    "        df[col_name] = df['url'].apply(lambda x: x.count(char))\n",
    "\n",
    "    return df\n",
    "\n",
    "\n",
    "df = count_special_characters(df)\n",
    "\n",
    "print(df)\n",
    "\n",
    "#  Sobreescribiendo el archivo CSV con las nuevas columnas.\n",
    "new_csv_path = './data/new_dataset.csv'\n",
    "df.to_csv(new_csv_path, index=False)"
   ]
  },
  {
   "cell_type": "markdown",
   "metadata": {},
   "source": [
    "Calculando la proporción de dígitos en las URL's completas y en los hostnames."
   ]
  },
  {
   "cell_type": "code",
   "execution_count": 49,
   "metadata": {},
   "outputs": [],
   "source": [
    "def calculate_digit_ratio(df):\n",
    "    df['full_url_digit_ratio'] = df['url'].apply(lambda x: sum(c.isdigit() for c in x) / len(x) if len(x) > 0 else 0)\n",
    "    df['hostname_digit_ratio'] = df['url'].apply(lambda x: sum(c.isdigit() for c in urlparse(x).hostname) / len(urlparse(x).hostname) if urlparse(x).hostname else 0)\n",
    "\n",
    "    return df\n",
    "\n",
    "df = calculate_digit_ratio(df)\n",
    "\n",
    "# Sobreescribiendo el archivo CSV con las nuevas columnas.\n",
    "new_csv_path = './data/new_dataset.csv'\n",
    "df.to_csv(new_csv_path, index=False)"
   ]
  },
  {
   "cell_type": "markdown",
   "metadata": {},
   "source": [
    "Detectando subdominios anormales "
   ]
  },
  {
   "cell_type": "code",
   "execution_count": 50,
   "metadata": {},
   "outputs": [],
   "source": [
    "def es_phishing(url):\n",
    "    # Extrayendo el subdominio de la url\n",
    "    subdominio = urlparse(url).hostname.split('.')[0]\n",
    "    \n",
    "    if re.match(r'w[w]?[0-9]*', subdominio):\n",
    "        return True\n",
    "    else:\n",
    "        return False\n",
    "\n",
    "df['abnormal_domain'] = df['url'].apply(es_phishing)\n",
    "\n",
    "# Escribiendo un nuevo archivo CSV con las nuevas columnas.\n",
    "new_csv_path = './data/new_dataset.csv'\n",
    "df.to_csv(new_csv_path, index=False)"
   ]
  },
  {
   "cell_type": "markdown",
   "metadata": {},
   "source": [
    "Dominios random"
   ]
  },
  {
   "cell_type": "code",
   "execution_count": 51,
   "metadata": {},
   "outputs": [],
   "source": [
    "def calcular_entropia(s):\n",
    "    # Contando la frecuencia de cada carácter en la cadena\n",
    "    frecuencia = [float(s.count(c)) / len(s) for c in dict.fromkeys(list(s))]\n",
    "    \n",
    "    # Calculando la entropia\n",
    "    entropia = -sum([p * math.log(p) / math.log(2.0) for p in frecuencia])\n",
    "    \n",
    "    return entropia\n",
    "\n",
    "def random_domain(url):\n",
    "    dominio = urlparse(url).hostname\n",
    "    \n",
    "    entropia = calcular_entropia(dominio)\n",
    "    \n",
    "    # Si la entropia es mayor que un cierto umbral, consideramos que el dominio es aleatorio\n",
    "    if entropia > 4:\n",
    "        return True\n",
    "    else:\n",
    "        return False\n",
    "\n",
    "df['random_domain'] = df['url'].apply(random_domain)\n",
    "\n",
    "new_csv_path = './data/new_dataset.csv'\n",
    "df.to_csv(new_csv_path, index=False)"
   ]
  },
  {
   "cell_type": "markdown",
   "metadata": {},
   "source": [
    "Prefijos y sufijos"
   ]
  },
  {
   "cell_type": "code",
   "execution_count": 52,
   "metadata": {},
   "outputs": [],
   "source": [
    "def prefix_suffix(url):\n",
    "    # Extrayendo el dominio de la url\n",
    "    dominio = urlparse(url).hostname\n",
    "    \n",
    "    # Comprobando si el dominio contiene \"-\"\n",
    "    if '-' in dominio:\n",
    "        return True\n",
    "    else:\n",
    "        return False\n",
    "\n",
    "# Buscando los prefijos y sufijos en los dominios\n",
    "df['prefix_suffix'] = df['url'].apply(prefix_suffix)\n",
    "\n",
    "\n",
    "new_csv_path = './data/new_dataset.csv'\n",
    "df.to_csv(new_csv_path, index=False)"
   ]
  },
  {
   "cell_type": "markdown",
   "metadata": {},
   "source": [
    "Términos comunes"
   ]
  },
  {
   "cell_type": "code",
   "execution_count": 53,
   "metadata": {},
   "outputs": [],
   "source": [
    "def common_terms(url):\n",
    "    # Definiendo los términos comunes que quieres buscar\n",
    "    terminos_comunes = ['www', '.com', 'http', '//']\n",
    "    \n",
    "    # Comprobando si todos los términos comunes están presentes en la url\n",
    "    return all(termino in url for termino in terminos_comunes)\n",
    "\n",
    "df['common_terms'] = df['url'].apply(common_terms)\n",
    "\n",
    "new_csv_path = './data/new_dataset.csv'\n",
    "df.to_csv(new_csv_path, index=False)"
   ]
  },
  {
   "cell_type": "markdown",
   "metadata": {},
   "source": [
    "Puny code"
   ]
  },
  {
   "cell_type": "code",
   "execution_count": 54,
   "metadata": {},
   "outputs": [],
   "source": [
    "def punycode(url):\n",
    "    # Extrayendo el dominio de la url\n",
    "    dominio = urlparse(url).hostname\n",
    "    \n",
    "    # Intentando convertir el dominio a ASCII usando la biblioteca idna\n",
    "    try:\n",
    "        dominio_ascii = idna.encode(dominio).decode('utf-8')\n",
    "    except idna.IDNAError:\n",
    "        # Si se produce un error,es porque el url ya esté en ASCII\n",
    "        dominio_ascii = dominio\n",
    "    \n",
    "    # Comprobando si el dominio contiene \"xn--\", que es un indicador de Punycode\n",
    "    if 'xn--' in dominio_ascii:\n",
    "        return True\n",
    "    else:\n",
    "        return False\n",
    "\n",
    "df['punycode'] = df['url'].apply(punycode)\n",
    "\n",
    "new_csv_path = './data/new_dataset.csv'\n",
    "df.to_csv(new_csv_path, index=False)"
   ]
  },
  {
   "cell_type": "markdown",
   "metadata": {},
   "source": [
    "Contador de palabras"
   ]
  },
  {
   "cell_type": "code",
   "execution_count": 55,
   "metadata": {},
   "outputs": [
    {
     "name": "stdout",
     "output_type": "stream",
     "text": [
      "                                                     url      status   \n",
      "0                  http://www.crestonwood.com/router.php  legitimate  \\\n",
      "1      http://shadetreetechnology.com/V4/validation/a...    phishing   \n",
      "2      https://support-appleld.com.secureupdate.duila...    phishing   \n",
      "3                                     http://rgipt.ac.in  legitimate   \n",
      "4      http://www.iracing.com/tracks/gateway-motorspo...  legitimate   \n",
      "...                                                  ...         ...   \n",
      "11425      http://www.fontspace.com/category/blackletter  legitimate   \n",
      "11426  http://www.budgetbots.com/server.php/Server%20...    phishing   \n",
      "11427  https://www.facebook.com/Interactive-Televisio...  legitimate   \n",
      "11428             http://www.mypublicdomainpictures.com/  legitimate   \n",
      "11429  http://174.139.46.123/ap/signin?openid.pape.ma...    phishing   \n",
      "\n",
      "       full_url_length  hostname_length  f4  f5  f6  f7  f8  f9  ...  f19   \n",
      "0                   37               19   3   0   0   0   0   0  ...    0  \\\n",
      "1                   77               23   1   0   0   0   0   0  ...    0   \n",
      "2                  126               50   4   1   0   1   2   0  ...    0   \n",
      "3                   18               11   2   0   0   0   0   0  ...    0   \n",
      "4                   55               15   2   2   0   0   0   0  ...    0   \n",
      "...                ...              ...  ..  ..  ..  ..  ..  ..  ...  ...   \n",
      "11425               45               17   2   0   0   0   0   0  ...    0   \n",
      "11426               84               18   5   0   1   1   0   0  ...    0   \n",
      "11427              105               16   2   6   0   1   0   0  ...    0   \n",
      "11428               38               30   2   0   0   0   0   0  ...    0   \n",
      "11429              477               14  24   0   1   1   9   0  ...    0   \n",
      "\n",
      "       f20  full_url_digit_ratio  hostname_digit_ratio  abnormal_domain   \n",
      "0        0              0.000000              0.000000             True  \\\n",
      "1        0              0.220779              0.000000            False   \n",
      "2        0              0.150794              0.000000            False   \n",
      "3        0              0.000000              0.000000            False   \n",
      "4        0              0.000000              0.000000             True   \n",
      "...    ...                   ...                   ...              ...   \n",
      "11425    0              0.000000              0.000000             True   \n",
      "11426    1              0.023810              0.000000             True   \n",
      "11427    0              0.142857              0.000000             True   \n",
      "11428    0              0.000000              0.000000             True   \n",
      "11429    0              0.085954              0.785714            False   \n",
      "\n",
      "       random_domain  prefix_suffix  common_terms  punycode  word_count  \n",
      "0              False          False          True     False           6  \n",
      "1              False          False         False     False           6  \n",
      "2              False           True         False     False          15  \n",
      "3              False          False         False     False           4  \n",
      "4              False          False          True     False           9  \n",
      "...              ...            ...           ...       ...         ...  \n",
      "11425          False          False          True     False           6  \n",
      "11426          False          False          True     False          14  \n",
      "11427          False          False          True     False          14  \n",
      "11428           True          False          True     False           5  \n",
      "11429          False          False         False     False          79  \n",
      "\n",
      "[11430 rows x 29 columns]\n"
     ]
    }
   ],
   "source": [
    "def word_count(url):\n",
    "    palabras = re.split(r'\\W+', url)\n",
    "    return len(palabras)\n",
    "\n",
    "# Aplicando la función a cada url en el dataset\n",
    "df['word_count'] = df['url'].apply(word_count)\n",
    "\n",
    "new_csv_path = './data/new_dataset.csv'\n",
    "df.to_csv(new_csv_path, index=False)"
   ]
  },
  {
   "cell_type": "markdown",
   "metadata": {},
   "source": [
    "Revisando si tiene caracteres especiales"
   ]
  },
  {
   "cell_type": "code",
   "execution_count": 56,
   "metadata": {},
   "outputs": [],
   "source": [
    "def repeatead_characters(url):\n",
    "    if re.search(r'(.)\\1', url):\n",
    "        return True\n",
    "    else:\n",
    "        return False\n",
    "\n",
    "df['repeatead_characters'] = df['url'].apply(repeatead_characters)\n",
    "\n",
    "new_csv_path = './data/new_dataset.csv'\n",
    "df.to_csv(new_csv_path, index=False)"
   ]
  }
 ],
 "metadata": {
  "kernelspec": {
   "display_name": "Python 3",
   "language": "python",
   "name": "python3"
  },
  "language_info": {
   "codemirror_mode": {
    "name": "ipython",
    "version": 3
   },
   "file_extension": ".py",
   "mimetype": "text/x-python",
   "name": "python",
   "nbconvert_exporter": "python",
   "pygments_lexer": "ipython3",
   "version": "3.11.3"
  }
 },
 "nbformat": 4,
 "nbformat_minor": 2
}
